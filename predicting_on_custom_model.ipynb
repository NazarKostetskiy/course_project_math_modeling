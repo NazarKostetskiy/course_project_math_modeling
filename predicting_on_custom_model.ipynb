{
  "nbformat": 4,
  "nbformat_minor": 0,
  "metadata": {
    "colab": {
      "name": "predicting_on_custom_model.ipynb",
      "provenance": [],
      "collapsed_sections": []
    },
    "kernelspec": {
      "name": "python3",
      "display_name": "Python 3"
    }
  },
  "cells": [
    {
      "cell_type": "code",
      "metadata": {
        "colab": {
          "base_uri": "https://localhost:8080/"
        },
        "id": "5dvBl266YKdN",
        "outputId": "19acb4a1-0a44-45b8-87cd-d6c20be51744"
      },
      "source": [
        "# config.py\n",
        "\n",
        "import os\n",
        "import numpy as np\n",
        "import tensorflow as tf\n",
        "from google.colab import drive\n",
        "\n",
        "\n",
        "# Mounting drive\n",
        "# This will require authentication\n",
        "drive.mount('/content/drive')\n",
        "\n",
        "\n",
        "SEED = 42\n",
        "EPOCHS = 100\n",
        "BATCH_SIZE = 32\n",
        "IMG_HEIGHT = 192\n",
        "IMG_WIDTH = 256\n",
        "\n",
        "input_shape = (IMG_HEIGHT, IMG_WIDTH, 3)\n",
        "\n",
        "APP_PATH = '/content/drive/MyDrive/unik/cataract-mat-model'\n",
        "\n",
        "def get_full_path(*pathes):\n",
        "    path = ''.join(map(str, pathes))\n",
        "    return os.path.join(APP_PATH, path)\n",
        "\n",
        "# # cataract dataset\n",
        "# IMG_ROOT = 'input/dataset/'\n",
        "# IMG_DIR = [IMG_ROOT+'1_normal', \n",
        "#            IMG_ROOT+'2_cataract', \n",
        "#            IMG_ROOT+'2_glaucoma', \n",
        "#            IMG_ROOT+'3_retina_disease']\n",
        "\n",
        "# ocular-disease-recognition dataset\n",
        "OCU_ROOT = 'input/ODIR_5K/'\n",
        "OCU_IMG_ROOT = 'input/ODIR_5K/Training_Images/'\n",
        "\n",
        "# FULL_IMG_ROOT = get_full_path(IMG_ROOT)\n",
        "FULL_OCU_ROOT = get_full_path(OCU_ROOT)\n",
        "FULL_OCU_IMG_ROOT = get_full_path(OCU_IMG_ROOT)\n",
        "# FULL_OCU_DATA_ROOT = get_full_path(FULL_OCU_ROOT, \"data.xlsx\")\n",
        "\n",
        "# ocu_df = pd.read_excel(\n",
        "#      FULL_OCU_DATA_ROOT,\n",
        "#      engine='openpyxl',\n",
        "# )\n"
      ],
      "execution_count": 2,
      "outputs": [
        {
          "output_type": "stream",
          "text": [
            "Mounted at /content/drive\n"
          ],
          "name": "stdout"
        }
      ]
    },
    {
      "cell_type": "code",
      "metadata": {
        "id": "_n30wKlcZOQj"
      },
      "source": [
        "# mist_activator.py\n",
        "\n",
        "import tensorflow as tf\n",
        "from tensorflow.keras import backend as K\n",
        "from tensorflow.keras.layers import *\n",
        "\n",
        "\n",
        "class Mish(tf.keras.layers.Layer):\n",
        "\n",
        "    def __init__(self, **kwargs):\n",
        "        super(Mish, self).__init__(**kwargs)\n",
        "        self.supports_masking = True\n",
        "\n",
        "    def call(self, inputs):\n",
        "        return inputs * K.tanh(K.softplus(inputs))\n",
        "\n",
        "    def get_config(self):\n",
        "        base_config = super(Mish, self).get_config()\n",
        "        return dict(list(base_config.items()) + list(config.items()))\n",
        "\n",
        "    def compute_output_shape(self, input_shape):\n",
        "        return input_shape\n",
        "\n",
        "\n",
        "def mish(x):\n",
        "    return tf.keras.layers.Lambda(lambda x: x*K.tanh(K.softplus(x)))(x)\n"
      ],
      "execution_count": 4,
      "outputs": []
    },
    {
      "cell_type": "code",
      "metadata": {
        "colab": {
          "base_uri": "https://localhost:8080/"
        },
        "id": "t7jINFN-YCm_",
        "outputId": "0dea7b1f-c054-4e4a-84b0-5b95a1ebb2dd"
      },
      "source": [
        "# predict_on_efficient_model.py\n",
        "\n",
        "\"\"\"\n",
        "  Need to be install\n",
        "\"\"\"\n",
        "# !pip install openpyxl\n",
        "\n",
        "import os, glob, cv2\n",
        "import numpy as np\n",
        "import pandas as pd\n",
        "import matplotlib.pyplot as plt\n",
        "import tensorflow as tf\n",
        "from tensorflow.keras.utils import get_custom_objects\n",
        "\n",
        "#from mish_activator import *\n",
        "#from config import *\n",
        "\n",
        "\n",
        "def seed_everything(seed):\n",
        "    np.random.seed(seed)\n",
        "    os.environ['PYTHONHASHSEED'] = str(seed)\n",
        "    tf.random.set_seed(seed)\n",
        "\n",
        "seed_everything(SEED)\n",
        "\n",
        " \n",
        "get_custom_objects().update({'mish': mish})\n",
        "\n",
        "input_shape = (IMG_HEIGHT, IMG_WIDTH, 3)\n",
        "\n",
        "\n",
        "def create_one_example(path, img_width, img_height):\n",
        "    img = plt.imread(path)\n",
        "    img = cv2.cvtColor(img, cv2.COLOR_BGR2RGB)\n",
        "    img = cv2.resize(img, (img_width, img_height))\n",
        "        \n",
        "    return img\n",
        "\n",
        "def normalize_example(img):\n",
        "    return img[np.newaxis, :]/255.0\n",
        "\n",
        "\n",
        "\"\"\"\n",
        "\tLoading custom model and predicting on separate example\n",
        "\"\"\"\n",
        "\n",
        "model_path = get_full_path('custom_model_with_activator.h5')\n",
        "\n",
        "loaded_model = tf.keras.models.load_model(\n",
        "      model_path,\n",
        "      custom_objects={'mish': mish})\n",
        "\n",
        "example_path = get_full_path(OCU_IMG_ROOT, '0_left.jpg')\n",
        "example = create_one_example(example_path, IMG_WIDTH, IMG_HEIGHT)\n",
        "example = normalize_example(example)\n",
        "\n",
        "result = loaded_model.predict(example)\n",
        "try:\n",
        "  result_percent = result[0][1] * 100\n",
        "except IndexError as e:\n",
        "  print('Invalid data: {}'.format(e))\n",
        "\n",
        "print('Custom Model\\nDiagnosis: cataract with {:.2f}% probability'.format(result_percent))\n"
      ],
      "execution_count": 7,
      "outputs": [
        {
          "output_type": "stream",
          "text": [
            "Custom Model\n",
            "Diagnosis: cataract with 69.18% probability\n"
          ],
          "name": "stdout"
        }
      ]
    },
    {
      "cell_type": "code",
      "metadata": {
        "id": "JoLCXk4-ZI9W"
      },
      "source": [
        ""
      ],
      "execution_count": null,
      "outputs": []
    }
  ]
}