{
  "nbformat": 4,
  "nbformat_minor": 0,
  "metadata": {
    "colab": {
      "name": "predict_on_efficient_model.ipynb",
      "provenance": [],
      "collapsed_sections": []
    },
    "kernelspec": {
      "name": "python3",
      "display_name": "Python 3"
    }
  },
  "cells": [
    {
      "cell_type": "code",
      "metadata": {
        "colab": {
          "base_uri": "https://localhost:8080/"
        },
        "id": "4Ld0HQbNaN5-",
        "outputId": "08286f24-4d9a-4e97-e56f-3b64b2da47cf"
      },
      "source": [
        "# config.py\n",
        "\n",
        "import os\n",
        "import numpy as np\n",
        "import tensorflow as tf\n",
        "from google.colab import drive\n",
        "\n",
        "\n",
        "# Mounting drive\n",
        "# This will require authentication\n",
        "drive.mount('/content/drive')\n",
        "\n",
        "\n",
        "SEED = 42\n",
        "EPOCHS = 100\n",
        "BATCH_SIZE = 32\n",
        "IMG_HEIGHT = 192\n",
        "IMG_WIDTH = 256\n",
        "\n",
        "input_shape = (IMG_HEIGHT, IMG_WIDTH, 3)\n",
        "\n",
        "APP_PATH = '/content/drive/MyDrive/unik/cataract-mat-model'\n",
        "\n",
        "def get_full_path(*pathes):\n",
        "    path = ''.join(map(str, pathes))\n",
        "    return os.path.join(APP_PATH, path)\n",
        "\n",
        "# # cataract dataset\n",
        "# IMG_ROOT = 'input/dataset/'\n",
        "# IMG_DIR = [IMG_ROOT+'1_normal', \n",
        "#            IMG_ROOT+'2_cataract', \n",
        "#            IMG_ROOT+'2_glaucoma', \n",
        "#            IMG_ROOT+'3_retina_disease']\n",
        "\n",
        "# ocular-disease-recognition dataset\n",
        "OCU_ROOT = 'input/ODIR_5K/'\n",
        "OCU_IMG_ROOT = 'input/ODIR_5K/Training_Images/'\n",
        "\n",
        "# FULL_IMG_ROOT = get_full_path(IMG_ROOT)\n",
        "FULL_OCU_ROOT = get_full_path(OCU_ROOT)\n",
        "FULL_OCU_IMG_ROOT = get_full_path(OCU_IMG_ROOT)\n",
        "# FULL_OCU_DATA_ROOT = get_full_path(FULL_OCU_ROOT, \"data.xlsx\")\n",
        "\n",
        "# ocu_df = pd.read_excel(\n",
        "#      FULL_OCU_DATA_ROOT,\n",
        "#      engine='openpyxl',\n",
        "# )\n"
      ],
      "execution_count": 2,
      "outputs": [
        {
          "output_type": "stream",
          "text": [
            "Drive already mounted at /content/drive; to attempt to forcibly remount, call drive.mount(\"/content/drive\", force_remount=True).\n"
          ],
          "name": "stdout"
        }
      ]
    },
    {
      "cell_type": "code",
      "metadata": {
        "colab": {
          "base_uri": "https://localhost:8080/"
        },
        "id": "fe3pnP9qaMaq",
        "outputId": "3f6cee3f-5194-4e4f-d4f3-5bb345b4e977"
      },
      "source": [
        "# predict_on_efficient_model.py\n",
        "\n",
        "\"\"\"\n",
        "  Need to be install\n",
        "\"\"\"\n",
        "!pip install -q efficientnet >> /dev/null\n",
        "\n",
        "# !pip install openpyxl\n",
        "\n",
        "import os, glob, cv2\n",
        "import numpy as np\n",
        "import pandas as pd\n",
        "import matplotlib.pyplot as plt\n",
        "import tensorflow as tf\n",
        "from tensorflow.keras.utils import get_custom_objects\n",
        "import efficientnet.tfkeras as efn\n",
        "\n",
        "# from config import *\n",
        "\n",
        "\n",
        "def create_one_example(path, img_width, img_height):\n",
        "    img = plt.imread(path)\n",
        "    img = cv2.cvtColor(img, cv2.COLOR_BGR2RGB)\n",
        "    img = cv2.resize(img, (img_width, img_height))\n",
        "        \n",
        "    return img\n",
        "\n",
        "def normalize_example(img):\n",
        "    return img[np.newaxis, :]/255.0\n",
        "\n",
        "\n",
        "\"\"\"\n",
        "\tLoading efficientnet-b0 model and predicting on separate example\n",
        "\"\"\"\n",
        "\n",
        "effi_model_path = get_full_path('efficientnet-b0_model.h5')\n",
        "\n",
        "loaded_efficientnet_model = tf.keras.models.load_model(effi_model_path)\n",
        "\n",
        "effi_example_path = get_full_path(OCU_IMG_ROOT, '0_left.jpg')\n",
        "effi_example = create_one_example(effi_example_path, IMG_WIDTH, IMG_HEIGHT)\n",
        "effi_example = normalize_example(effi_example)\n",
        "\n",
        "effi_result = loaded_efficientnet_model.predict(effi_example)\n",
        "try:\n",
        "  effi_result_percent = effi_result[0][1] * 100\n",
        "except IndexError as e:\n",
        "  print('Invalid data: {}'.format(e))\n",
        "\n",
        "print('Efficientnet-b0 Model\\nDiagnosis: cataract with {:.2f}% probability'.format(effi_result_percent))"
      ],
      "execution_count": 5,
      "outputs": [
        {
          "output_type": "stream",
          "text": [
            "Efficientnet-b0 Model\n",
            "Diagnosis: cataract with 99.62% probability\n"
          ],
          "name": "stdout"
        }
      ]
    },
    {
      "cell_type": "code",
      "metadata": {
        "id": "zhuuV-MKa9M-"
      },
      "source": [
        ""
      ],
      "execution_count": null,
      "outputs": []
    }
  ]
}